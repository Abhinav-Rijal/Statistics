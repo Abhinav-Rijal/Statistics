{
 "cells": [
  {
   "cell_type": "code",
   "execution_count": 3,
   "metadata": {},
   "outputs": [
    {
     "name": "stdout",
     "output_type": "stream",
     "text": [
      "[23, 128, 75, 139, 188, 156, 8, 69, 141, 200, 180, 145, 85, 75, 100, 59, 91, 168, 88, 26, 49, 166, 86, 93, 68, 36, 75, 84, 30, 35, 39, 40, 159, 26, 79, 15, 86, 196, 65, 157, 17, 72, 61, 54, 78, 182, 65, 117, 181, 98, 160, 94, 103, 87, 83, 57, 72, 32, 9, 110, 122, 32, 65, 191, 70, 186, 120, 120, 42, 145, 44, 70, 65, 13, 137, 51, 192, 166, 20, 149, 129, 33, 108, 19, 41, 95, 46, 148, 13, 158, 197, 4, 26, 183, 76, 133, 65, 54, 136, 141, 172, 103, 80, 149, 105, 153, 57, 26, 2, 14, 57, 38, 65, 120, 89, 193, 23, 132, 26, 27, 131, 104, 92, 30, 200, 130, 49, 104, 145, 127, 44, 110, 99, 42, 39, 112, 49, 158, 59, 77, 62, 69, 114, 26, 68, 161, 181, 39, 112, 118, 107, 200, 31, 166, 120, 40, 149, 94, 35, 198, 38, 49, 6, 57, 48, 140, 99, 179, 62, 123, 103, 64, 68, 182, 70, 21, 134, 126, 114, 58, 57, 85, 77, 190, 136, 71, 88, 192, 82, 181, 67, 157, 0, 72, 196, 20, 75, 159, 191, 27]\n"
     ]
    }
   ],
   "source": [
    "#Generating random data\n",
    "import random\n",
    "import collections as cl\n",
    "import math\n",
    "import matplotlib.pyplot as plt\n",
    "%matplotlib inline\n",
    "x = [random.randint(0,200) for k in range(200)]\n",
    "print(x)\n",
    "c= cl.Counter(x)\n",
    "#print(c)"
   ]
  },
  {
   "cell_type": "code",
   "execution_count": 4,
   "metadata": {},
   "outputs": [
    {
     "name": "stdout",
     "output_type": "stream",
     "text": [
      "The Arithmetic mean, Geometric mean and Harmonic mean of the data are: 93.755 72.894 56.675\n"
     ]
    }
   ],
   "source": [
    "#Mean of the data\n",
    "\n",
    "N=200\n",
    "Sum=0\n",
    "Sum_GM=0\n",
    "for i in range(200):\n",
    "    Sum=Sum+x[i]\n",
    "    if x[i]!=0:\n",
    "        Sum_GM=Sum_GM + math.log10(x[i])\n",
    "#print(Sum)\n",
    "Mean=round(Sum/N,3)\n",
    "GM=round(10**(Sum_GM/N),3)\n",
    "HM=round((GM**2)/Mean,3)\n",
    "print(\"The Arithmetic mean, Geometric mean and Harmonic mean of the data are:\",Mean, GM, HM)"
   ]
  },
  {
   "cell_type": "code",
   "execution_count": 8,
   "metadata": {},
   "outputs": [
    {
     "name": "stdout",
     "output_type": "stream",
     "text": [
      "The first, second, third and fourth central moments are: 0.0 2990.035 52391.135 18101250.123\n",
      "The first, second, third and fourth raw moments wrt 0 are: 93.755 11780.035 1717489.775 272707519.195\n",
      "The distribution is positively skewed\n",
      "The distribution is platykurtic\n"
     ]
    }
   ],
   "source": [
    "#Moments,Skewness, Kurtosis\n",
    "Sum=0\n",
    "for i in range(0,N):\n",
    "    Sum=Sum+(x[i]-Mean)**1\n",
    "mu1=round(Sum/N,3)\n",
    "Sum=0\n",
    "for i in range(0,N):\n",
    "    Sum=Sum+(x[i]-Mean)**2\n",
    "mu2=round(Sum/N,3)\n",
    "Sum=0\n",
    "for i in range(0,N):\n",
    "    Sum=Sum+(x[i]-Mean)**3\n",
    "mu3=round(Sum/N,3)\n",
    "Sum=0\n",
    "for i in range(0,N):\n",
    "    Sum=Sum+(x[i]-Mean)**4\n",
    "mu4=round(Sum/N,3)\n",
    "gamma1=mu3/(mu2)**(3/2)\n",
    "gamma2=(mu4/(mu2)**2)-3\n",
    "print(\"The first, second, third and fourth central moments are:\", mu1, mu2, mu3, mu4)\n",
    "Sum=0\n",
    "for i in range(0,N):\n",
    "    Sum=Sum+(x[i]-0)**1\n",
    "mu1=round(Sum/N,3)\n",
    "Sum=0\n",
    "for i in range(0,N):\n",
    "    Sum=Sum+(x[i]-0)**2\n",
    "mu2=round(Sum/N,3)\n",
    "Sum=0\n",
    "for i in range(0,N):\n",
    "    Sum=Sum+(x[i]-0)**3\n",
    "mu3=round(Sum/N,3)\n",
    "Sum=0\n",
    "for i in range(0,N):\n",
    "    Sum=Sum+(x[i]-0)**4\n",
    "mu4=round(Sum/N,3)\n",
    "print(\"The first, second, third and fourth raw moments wrt 0 are:\", mu1, mu2, mu3, mu4)\n",
    "if gamma1==0:\n",
    "    print('The distribution is symmetric')\n",
    "elif gamma1>0:\n",
    "    print('The distribution is positively skewed')\n",
    "else:\n",
    "    print('The distribution is negatively skewed')\n",
    "if gamma2==0:\n",
    "    print('The distribution is mesokurtic')\n",
    "elif gamma2>0:\n",
    "    print('The distribution is leptokurtic')\n",
    "else:\n",
    "    print('The distribution is platykurtic')"
   ]
  },
  {
   "cell_type": "code",
   "execution_count": 222,
   "metadata": {},
   "outputs": [
    {
     "name": "stdout",
     "output_type": "stream",
     "text": [
      "[0, 1, 6, 7, 7, 9, 9, 10, 11, 12, 13, 13, 14, 16, 17, 17, 19, 19, 20, 25, 25, 27, 28, 28, 30, 31, 32, 33, 33, 35, 35, 36, 36, 37, 38, 38, 41, 41, 42, 42, 44, 46, 46, 46, 48, 48, 50, 50, 50, 51, 52, 52, 54, 55, 55, 57, 58, 58, 61, 62, 64, 66, 70, 71, 71, 75, 76, 77, 78, 81, 82, 83, 83, 84, 85, 85, 85, 85, 87, 87, 87, 87, 89, 89, 90, 90, 92, 92, 93, 94, 96, 96, 97, 100, 102, 103, 103, 104, 105, 106, 107, 109, 110, 112, 113, 115, 115, 115, 116, 117, 120, 121, 123, 123, 124, 125, 127, 127, 128, 129, 129, 130, 130, 130, 130, 131, 132, 132, 133, 134, 135, 135, 135, 136, 137, 138, 140, 143, 144, 145, 145, 145, 146, 147, 148, 148, 150, 150, 151, 152, 153, 153, 153, 154, 154, 156, 156, 160, 160, 160, 160, 163, 164, 165, 165, 168, 170, 170, 171, 171, 172, 173, 173, 174, 175, 175, 176, 178, 178, 178, 179, 179, 180, 180, 181, 182, 182, 184, 188, 188, 189, 190, 190, 191, 192, 192, 193, 197, 198, 200]\n"
     ]
    }
   ],
   "source": [
    "#SELECTION SORT, for Ascending order, by finding smallest numbers \n",
    "for i in range(0,N):\n",
    "    Min=x[i]\n",
    "    Index=i\n",
    "    #print(i) \n",
    "    for j in range(i+1,N):\n",
    "        #print(j)\n",
    "        if x[j]<Min:\n",
    "            Min=x[j]\n",
    "            Index=j\n",
    "    x[Index]=x[i]\n",
    "    x[i]=Min\n",
    "print(x)"
   ]
  },
  {
   "cell_type": "code",
   "execution_count": 224,
   "metadata": {},
   "outputs": [
    {
     "name": "stdout",
     "output_type": "stream",
     "text": [
      "The first quartile, Median or second quartile and the third quartile are respectively: 50.75 105.5 151.25\n",
      "The 9 Deciles are: [25.0, 41.6, 61.4, 87.0, 105.5, 129.0, 145.0, 160.0, 177.1]\n",
      "The 99 Percentiles are: [0.95, 7.0, 9.0, 9.96, 11.95, 12.94, 15.93, 16.84, 18.91, 25.0, 26.89, 27.76, 30.87, 33.0, 35.0, 36.0, 36.83, 37.46, 40.81, 41.6, 46.0, 45.56, 47.54, 50.0, 50.75, 51.48, 55.0, 56.72, 57.13, 61.4, 64.76, 71.0, 74.67, 76.66, 80.65, 83.0, 83.63, 85.0, 84.22, 87.0, 86.18, 88.58, 89.14, 91.56, 93.1, 95.54, 99.06, 103.0, 103.51, 105.5, 108.49, 111.48, 115.0, 114.46, 115.35, 119.88, 122.43, 123.84, 126.41, 129.0, 130.0, 130.0, 130.37, 131.36, 133.35, 135.0, 135.33, 136.64, 142.31, 145.0, 144.29, 146.28, 146.54, 149.26, 151.25, 153.0, 154.0, 156.0, 160.0, 160.0, 162.19, 165.0, 166.34, 169.16, 170.15, 173.0, 173.13, 174.12, 178.0, 177.1, 178.09, 179.08, 182.0, 180.24, 187.05, 190.0, 190.03, 191.02, 196.01]\n"
     ]
    }
   ],
   "source": [
    "#Median, Quartiles, Deciles, Percentiles\n",
    "#import math\n",
    "Md_pos= math.floor((N+1)/2)\n",
    "d=x[Md_pos-1]-x[Md_pos]\n",
    "Md=x[Md_pos-1]+(((N+1)/2)-Md_pos)*d\n",
    "Q1_pos=math.floor((N+1)/4)\n",
    "Q3_pos=math.floor(3*(N+1)/4)\n",
    "d1=x[Q1_pos-1]-x[Q1_pos]\n",
    "d2=x[Q3_pos-1]-x[Q3_pos]\n",
    "Q1=x[Q1_pos-1]+(((N+1)/4)-Q1_pos)*d1\n",
    "Q3=x[Q3_pos-1]+((3*(N+1)/4)-Q3_pos)*d2\n",
    "Q1=round(Q1,3)\n",
    "Md=round(Md,3)\n",
    "Q3=round(Q3,3)\n",
    "print(\"The first quartile, Median or second quartile and the third quartile are respectively:\", Q1, Md, Q3)\n",
    "D=[]\n",
    "for i in range(1,10):\n",
    "    D_pos= math.floor(i*(N+1)/10)\n",
    "    d=x[D_pos-1]-x[D_pos]\n",
    "    D.append(round(x[D_pos-1]+((i*(N+1)/10)-D_pos)*d,3))\n",
    "print(\"The 9 Deciles are:\", D)\n",
    "P=[]\n",
    "for i in range(1,100):\n",
    "    P_pos= math.floor(i*(N+1)/100)\n",
    "    d=x[P_pos-1]-x[P_pos]\n",
    "    P.append(round(x[P_pos-1]+((i*(N+1)/100)-P_pos)*d,3))\n",
    "print(\"The 99 Percentiles are:\", P)\n",
    "    \n"
   ]
  },
  {
   "cell_type": "code",
   "execution_count": 234,
   "metadata": {},
   "outputs": [
    {
     "name": "stdout",
     "output_type": "stream",
     "text": [
      "Number of discrete data items 131\n",
      "Mode is ill-defined; maximum freq. is 4 , which repeats 4 times. And the modes are:\n",
      "85\n",
      "87\n",
      "130\n",
      "160\n",
      "Mode, for ill-defined case, using Emperical relationship between Mode, Median and Mean is: 108.94\n"
     ]
    }
   ],
   "source": [
    "#frequency table, Mode\n",
    "\n",
    "count=[]\n",
    "freq=[]\n",
    "y=[]\n",
    "y.append('X')\n",
    "freq.append('f')\n",
    "repeat=0\n",
    "for i in range(0,N-1):\n",
    "    count.append(1)\n",
    "    \n",
    "    if x[i]==x[i+1]:\n",
    "        count[i-repeat]=count[i-repeat] +1\n",
    "        repeat=repeat+1\n",
    "    else:\n",
    "        y.append(x[i])\n",
    "            \n",
    "#print(repeat)        \n",
    "#print(x)\n",
    "#more_than_cf=[]\n",
    "#more_than_cf.append('More than cf')\n",
    "y.append(x[N-1])\n",
    "for i in range(0,N-repeat):\n",
    "    freq.append(count[i])\n",
    "    #more_than_cf.append(count[i])\n",
    "    #for j in range(i+1,N-repeat):\n",
    "        #more_than_cf[i+1]=more_than_cf[i+1]+count[j]\n",
    "    \n",
    "    \n",
    "#print(freq)\n",
    "#print(len(freq))\n",
    "print(\"Number of discrete data items\",N-repeat)\n",
    "#print(y)\n",
    "#print(len(y))\n",
    "#list_of_lists = [y, freq]\n",
    "\n",
    "#for a in zip(*list_of_lists):\n",
    "    #print(*a)\n",
    "       \n",
    "Indices=[]\n",
    "max_count=0\n",
    "y.pop(0)\n",
    "freq.pop(0)\n",
    "maxf=freq[0]\n",
    "for i in range(0,len(freq)):\n",
    "    if freq[i]>maxf:\n",
    "        maxf=freq[i]\n",
    "        max_index=i\n",
    "\n",
    "for i in range(0,len(freq)):       \n",
    "    if freq[i]==maxf:\n",
    "        max_count=max_count+1\n",
    "        Indices.append(i)\n",
    "if max_count==1:\n",
    "    print(\"The mode is:\", y[max_index])\n",
    "    Mo=y[max_index]\n",
    "    print(\"and its frequency is:\" ,freq[max_index])\n",
    "\n",
    "\n",
    "if max_count>1:\n",
    "    print(\"Mode is ill-defined; maximum freq. is\", freq[max_index], \", which repeats\", max_count, \"times. And the modes are:\")\n",
    "    for i in range(0, len(Indices)):\n",
    "        print(y[Indices[i]]) \n",
    "    Mo=round(3*Md-2*Mean,3)\n",
    "    print(\"Mode, for ill-defined case, using Emperical relationship between Mode, Median and Mean is:\", Mo)                                           \n",
    "       "
   ]
  },
  {
   "cell_type": "code",
   "execution_count": 235,
   "metadata": {},
   "outputs": [
    {
     "name": "stdout",
     "output_type": "stream",
     "text": [
      "X f X-Mean |X-Mean|\n",
      "0 1 -103.78 103.78\n",
      "1 1 -102.78 102.78\n",
      "6 1 -97.78 97.78\n",
      "7 2 -96.78 96.78\n",
      "9 2 -94.78 94.78\n",
      "10 1 -93.78 93.78\n",
      "11 1 -92.78 92.78\n",
      "12 1 -91.78 91.78\n",
      "13 2 -90.78 90.78\n",
      "14 1 -89.78 89.78\n",
      "16 1 -87.78 87.78\n",
      "17 2 -86.78 86.78\n",
      "19 2 -84.78 84.78\n",
      "20 1 -83.78 83.78\n",
      "25 2 -78.78 78.78\n",
      "27 1 -76.78 76.78\n",
      "28 2 -75.78 75.78\n",
      "30 1 -73.78 73.78\n",
      "31 1 -72.78 72.78\n",
      "32 1 -71.78 71.78\n",
      "33 2 -70.78 70.78\n",
      "35 2 -68.78 68.78\n",
      "36 2 -67.78 67.78\n",
      "37 1 -66.78 66.78\n",
      "38 2 -65.78 65.78\n",
      "41 2 -62.78 62.78\n",
      "42 2 -61.78 61.78\n",
      "44 1 -59.78 59.78\n",
      "46 3 -57.78 57.78\n",
      "48 2 -55.78 55.78\n",
      "50 3 -53.78 53.78\n",
      "51 1 -52.78 52.78\n",
      "52 2 -51.78 51.78\n",
      "54 1 -49.78 49.78\n",
      "55 2 -48.78 48.78\n",
      "57 1 -46.78 46.78\n",
      "58 2 -45.78 45.78\n",
      "61 1 -42.78 42.78\n",
      "62 1 -41.78 41.78\n",
      "64 1 -39.78 39.78\n",
      "66 1 -37.78 37.78\n",
      "70 1 -33.78 33.78\n",
      "71 2 -32.78 32.78\n",
      "75 1 -28.78 28.78\n",
      "76 1 -27.78 27.78\n",
      "77 1 -26.78 26.78\n",
      "78 1 -25.78 25.78\n",
      "81 1 -22.78 22.78\n",
      "82 1 -21.78 21.78\n",
      "83 2 -20.78 20.78\n",
      "84 1 -19.78 19.78\n",
      "85 4 -18.78 18.78\n",
      "87 4 -16.78 16.78\n",
      "89 2 -14.78 14.78\n",
      "90 2 -13.78 13.78\n",
      "92 2 -11.78 11.78\n",
      "93 1 -10.78 10.78\n",
      "94 1 -9.78 9.78\n",
      "96 2 -7.78 7.78\n",
      "97 1 -6.78 6.78\n",
      "100 1 -3.78 3.78\n",
      "102 1 -1.78 1.78\n",
      "103 2 -0.78 0.78\n",
      "104 1 0.22 0.22\n",
      "105 1 1.22 1.22\n",
      "106 1 2.22 2.22\n",
      "107 1 3.22 3.22\n",
      "109 1 5.22 5.22\n",
      "110 1 6.22 6.22\n",
      "112 1 8.22 8.22\n",
      "113 1 9.22 9.22\n",
      "115 3 11.22 11.22\n",
      "116 1 12.22 12.22\n",
      "117 1 13.22 13.22\n",
      "120 1 16.22 16.22\n",
      "121 1 17.22 17.22\n",
      "123 2 19.22 19.22\n",
      "124 1 20.22 20.22\n",
      "125 1 21.22 21.22\n",
      "127 2 23.22 23.22\n",
      "128 1 24.22 24.22\n",
      "129 2 25.22 25.22\n",
      "130 4 26.22 26.22\n",
      "131 1 27.22 27.22\n",
      "132 2 28.22 28.22\n",
      "133 1 29.22 29.22\n",
      "134 1 30.22 30.22\n",
      "135 3 31.22 31.22\n",
      "136 1 32.22 32.22\n",
      "137 1 33.22 33.22\n",
      "138 1 34.22 34.22\n",
      "140 1 36.22 36.22\n",
      "143 1 39.22 39.22\n",
      "144 1 40.22 40.22\n",
      "145 3 41.22 41.22\n",
      "146 1 42.22 42.22\n",
      "147 1 43.22 43.22\n",
      "148 2 44.22 44.22\n",
      "150 2 46.22 46.22\n",
      "151 1 47.22 47.22\n",
      "152 1 48.22 48.22\n",
      "153 3 49.22 49.22\n",
      "154 2 50.22 50.22\n",
      "156 2 52.22 52.22\n",
      "160 4 56.22 56.22\n",
      "163 1 59.22 59.22\n",
      "164 1 60.22 60.22\n",
      "165 2 61.22 61.22\n",
      "168 1 64.22 64.22\n",
      "170 2 66.22 66.22\n",
      "171 2 67.22 67.22\n",
      "172 1 68.22 68.22\n",
      "173 2 69.22 69.22\n",
      "174 1 70.22 70.22\n",
      "175 2 71.22 71.22\n",
      "176 1 72.22 72.22\n",
      "178 3 74.22 74.22\n",
      "179 2 75.22 75.22\n",
      "180 2 76.22 76.22\n",
      "181 1 77.22 77.22\n",
      "182 2 78.22 78.22\n",
      "184 1 80.22 80.22\n",
      "188 2 84.22 84.22\n",
      "189 1 85.22 85.22\n",
      "190 2 86.22 86.22\n",
      "191 1 87.22 87.22\n",
      "192 2 88.22 88.22\n",
      "193 1 89.22 89.22\n",
      "197 1 93.22 93.22\n",
      "198 1 94.22 94.22\n",
      "200 1 96.22 96.22\n",
      "The data ranges from  0  to  200 with Range= 200 and Range coeff= 1.0\n",
      "Inter-Quartile Range, Quartile Deviation or Semi-IQR and the coefficient of QD or relative QD are respectively:  100.5 50.25 0.498\n",
      "Total Deviation=  2.5295321393059567e-12\n",
      "Variance=  3197.192\n",
      "Standard Deviation=  56.544\n",
      "Coefficient Of Variation=  54.484\n",
      "Mean Deviation wrt Mean, Median, Mode are respectively:  49.157 49.125 49.139\n",
      "Coefficient of(or relative) Mean Deviation wrt Mean, Median, Mode are respectively:  0.474 0.466 0.451\n"
     ]
    }
   ],
   "source": [
    "#Dispersion\n",
    "Range=max(y)-min(y)\n",
    "Range_coeff= round(Range/(max(y)+min(y)),3)\n",
    "IQR=Q3-Q1\n",
    "QD=round(IQR/2,3)\n",
    "QD_coeff=round(IQR/(Q3+Q1),3)\n",
    "Dev_Mean=[]\n",
    "Mod_Dev_Mean=[]\n",
    "Mod_Dev_Md=[]\n",
    "Mod_Dev_Mo=[]\n",
    "SD=0\n",
    "MD_M=0\n",
    "MD_Md=0\n",
    "MD_Mo=0\n",
    "Sum_Dev=0\n",
    "\n",
    "for i in range(0, len(y)):\n",
    "    Dev_Mean.append(round(y[i]-Mean,3))\n",
    "    Mod_Dev_Mean.append(round(abs(y[i]-Mean),3))\n",
    "    Mod_Dev_Md.append(round(abs(y[i]-Md),3))\n",
    "    Mod_Dev_Mo.append(round(abs(y[i]-Mo),3))\n",
    "    SD=SD+freq[i]*Mod_Dev_Mean[i]**2\n",
    "    MD_M=MD_M+freq[i]*Mod_Dev_Mean[i]\n",
    "    MD_Md=MD_Md+freq[i]*Mod_Dev_Md[i]\n",
    "    MD_Mo=MD_Mo+freq[i]*Mod_Dev_Mo[i]\n",
    "    Sum_Dev=Sum_Dev+round(freq[i]*Dev_Mean[i],3)\n",
    "Var=round(SD/N,3)\n",
    "SD=round(math.sqrt(SD/N),3)\n",
    "COV=round(SD*100/Mean,3)\n",
    "MD_M=round(MD_M/N,3)\n",
    "Coeff_MD_M=round(MD_M/Mean,3)\n",
    "MD_Md=round(MD_Md/N,3)\n",
    "Coeff_MD_Md=round(MD_Md/Md,3)\n",
    "MD_Mo=round(MD_Mo/N,3)\n",
    "Coeff_MD_Mo=round(MD_Mo/Mo,3)\n",
    "#print(Dev)\n",
    "y.insert(0,'X')\n",
    "freq.insert(0,'f')\n",
    "Mod_Dev_Mean.insert(0,'|X-Mean|')\n",
    "Dev_Mean.insert(0,'X-Mean')\n",
    "\n",
    "list_of_lists = [y,  freq, Dev_Mean,  Mod_Dev_Mean ]\n",
    "\n",
    "for a in zip(*list_of_lists):\n",
    "    print(*a)\n",
    "y.pop(0)\n",
    "freq.pop(0)\n",
    "\n",
    "print(\"The data ranges from \", min(y),\" to \", max(y), \"with Range=\", Range, \"and Range coeff=\", Range_coeff)\n",
    "print(\"Inter-Quartile Range, Quartile Deviation or Semi-IQR and the coefficient of QD or relative QD are respectively: \", IQR, QD, QD_coeff)\n",
    "print(\"Total Deviation= \", Sum_Dev)\n",
    "print(\"Variance= \", Var)\n",
    "print(\"Standard Deviation= \", SD)\n",
    "print(\"Coefficient Of Variation= \", COV)\n",
    "print(\"Mean Deviation wrt Mean, Median, Mode are respectively: \", MD_M, MD_Md, MD_Mo)\n",
    "print(\"Coefficient of(or relative) Mean Deviation wrt Mean, Median, Mode are respectively: \", Coeff_MD_M, Coeff_MD_Md, Coeff_MD_Mo)\n"
   ]
  },
  {
   "cell_type": "code",
   "execution_count": 236,
   "metadata": {
    "collapsed": true
   },
   "outputs": [],
   "source": [
    "def sum_freq(mini,maxi):\n",
    "    #Exclusive class interval\n",
    "    sumf=0\n",
    "    for i in range(0,len(y)):\n",
    "        if y[i]>=mini and y[i]<maxi: #upperbound is excluded\n",
    "            sumf=sumf+freq[i]\n",
    "        elif y[i]==maxi:\n",
    "            break\n",
    "    return(sumf)"
   ]
  },
  {
   "cell_type": "code",
   "execution_count": 237,
   "metadata": {
    "collapsed": true
   },
   "outputs": [],
   "source": [
    "def cf_more_than(mini):\n",
    "    mt_cf=0\n",
    "    for i in range(0, len(y)):\n",
    "        if y[i]>=mini:\n",
    "            mt_cf=mt_cf+freq[i]\n",
    "    return(mt_cf)"
   ]
  },
  {
   "cell_type": "code",
   "execution_count": 238,
   "metadata": {
    "collapsed": true
   },
   "outputs": [],
   "source": [
    "def cf_less_than(maxi):\n",
    "    lt_cf=0\n",
    "    for i in range(0, len(y)):\n",
    "        if y[i]<maxi:\n",
    "            lt_cf=lt_cf+freq[i]\n",
    "    return(lt_cf)"
   ]
  },
  {
   "cell_type": "code",
   "execution_count": 239,
   "metadata": {},
   "outputs": [
    {
     "name": "stdout",
     "output_type": "stream",
     "text": [
      "Using Struge's law to transform the discrete data into continuous, the number of intervals and width of an interval are respectively:  9 23\n",
      "[0, 23, 46, 69, 92, 115, 138, 161, 184, 207]\n",
      "[11.5, 34.5, 57.5, 80.5, 103.5, 126.5, 149.5, 172.5, 195.5]\n",
      "class f rel.f cf(mt) cf(lt)\n",
      "0-23 19 0.095 200 19\n",
      "23-46 22 0.11 181 41\n",
      "46-69 21 0.105 159 62\n",
      "69-92 24 0.12 138 86\n",
      "92-115 19 0.095 114 105\n",
      "115-138 30 0.15 95 135\n",
      "138-161 26 0.13 65 161\n",
      "161-184 26 0.13 39 187\n",
      "184-207 13 0.065 13 200\n"
     ]
    }
   ],
   "source": [
    "#Converting to continuous/class intervals\n",
    "K=1+3.322*math.log10(N)\n",
    "W=round(Range/K)\n",
    "K=round(K)\n",
    "print(\"Using Struge's law to transform the discrete data into continuous, the number of intervals and width of an interval are respectively: \", K, W)\n",
    "cont=[]\n",
    "cont_freq=[]\n",
    "more_than_cf=[]\n",
    "less_than_cf=[]\n",
    "rel_freq=[]\n",
    "points=[]\n",
    "mid_pts=[]\n",
    "mini=min(y)\n",
    "points.append(mini)\n",
    "for i in range(0,K):\n",
    "    \n",
    "    cont.append(str(mini)+'-'+str(mini+W))\n",
    "    cont_freq.append(sum_freq(mini,mini+W))\n",
    "    rel_freq.append(round(cont_freq[i]/N,3))\n",
    "    more_than_cf.append(cf_more_than(mini))\n",
    "    less_than_cf.append(cf_less_than(mini+W))\n",
    "    mini=mini+W\n",
    "    mid_pts.append(mini-W/2)\n",
    "    points.append(mini)\n",
    "cont.insert(0,'class')\n",
    "cont_freq.insert(0,'f')\n",
    "more_than_cf.insert(0, 'cf(mt)')\n",
    "less_than_cf.insert(0, 'cf(lt)')\n",
    "rel_freq.insert(0,'rel.f')\n",
    "print(points)\n",
    "print(mid_pts)\n",
    "\n",
    "list_of_lists = [cont, cont_freq, rel_freq, more_than_cf, less_than_cf ]\n",
    "\n",
    "for a in zip(*list_of_lists):\n",
    "    print(*a)\n"
   ]
  },
  {
   "cell_type": "code",
   "execution_count": 240,
   "metadata": {
    "collapsed": true
   },
   "outputs": [],
   "source": [
    "\n",
    "cont_freq.pop(0)\n",
    "cont.pop(0)\n",
    "rel_freq.pop(0)\n",
    "more_than_cf.pop(0)\n",
    "less_than_cf.pop(0)\n",
    "more_than_cf.append(0)\n",
    "less_than_cf.insert(0,0)\n",
    "\n",
    "#print(len(more_than_cf))\n",
    "#print(len(points))"
   ]
  },
  {
   "cell_type": "code",
   "execution_count": 241,
   "metadata": {},
   "outputs": [
    {
     "data": {
      "text/plain": [
       "<matplotlib.legend.Legend at 0x1d153f11550>"
      ]
     },
     "execution_count": 241,
     "metadata": {},
     "output_type": "execute_result"
    },
    {
     "data": {
      "image/png": "[encoded data removed]",
      "text/plain": [
       "<matplotlib.figure.Figure at 0x1d153e2ccf8>"
      ]
     },
     "metadata": {},
     "output_type": "display_data"
    }
   ],
   "source": [
    "#Ogive curve\n",
    "plt.plot(points, more_than_cf, label='more than')\n",
    "plt.plot(points, less_than_cf, label='less than')\n",
    "plt.xlabel('X')\n",
    "plt.ylabel('cf')\n",
    "plt.title('Less than and More than Ogives')\n",
    "plt.legend()"
   ]
  },
  {
   "cell_type": "code",
   "execution_count": 242,
   "metadata": {},
   "outputs": [
    {
     "data": {
      "text/plain": [
       "[<matplotlib.lines.Line2D at 0x1d1543cd080>]"
      ]
     },
     "execution_count": 242,
     "metadata": {},
     "output_type": "execute_result"
    },
    {
     "data": {
      "image/png": "[encoded data removed]",
      "text/plain": [
       "<matplotlib.figure.Figure at 0x1d153df7ac8>"
      ]
     },
     "metadata": {},
     "output_type": "display_data"
    }
   ],
   "source": [
    "#Frequency curve\n",
    "plt.title('Frequency curve')\n",
    "plt.plot(mid_pts,cont_freq)"
   ]
  },
  {
   "cell_type": "code",
   "execution_count": null,
   "metadata": {
    "collapsed": true
   },
   "outputs": [],
   "source": []
  }
 ],
 "metadata": {
  "kernelspec": {
   "display_name": "Python 3",
   "language": "python",
   "name": "python3"
  },
  "language_info": {
   "codemirror_mode": {
    "name": "ipython",
    "version": 3
   },
   "file_extension": ".py",
   "mimetype": "text/x-python",
   "name": "python",
   "nbconvert_exporter": "python",
   "pygments_lexer": "ipython3",
   "version": "3.6.2"
  }
 },
 "nbformat": 4,
 "nbformat_minor": 2
}
